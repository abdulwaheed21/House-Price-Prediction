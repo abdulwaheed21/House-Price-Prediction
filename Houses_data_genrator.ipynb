{
 "cells": [
  {
   "cell_type": "code",
   "execution_count": 2,
   "id": "b13fd5b3-07c4-4d95-8fe7-14888671fd16",
   "metadata": {},
   "outputs": [],
   "source": [
    "import numpy as np \n",
    "import pandas as pd \n",
    "\n",
    "# Set random seed for reproducibility \n",
    "np.random.seed(42) \n",
    "\n",
    "# Generate synthetic data for house prices \n",
    "num_samples = 1000 \n",
    "\n",
    "# Features \n",
    "size = np.random.randint(500, 3000, size=num_samples) \n",
    "bedrooms = np.random.randint(1, 6, size=num_samples) \n",
    "bathrooms = np.random.randint(1, 4, size=num_samples) \n",
    "location = np.random.choice(['City Centre', 'Suburbs', 'Rural Area'], size=num_samples) \n",
    "\n",
    "# Target variable \n",
    "prices = 50000 + (size * 100).astype(float) + (bedrooms * 20000).astype(float) + (bathrooms * 15000).astype(float)\n",
    "prices += np.random.normal(0, 20000, size=num_samples)  # This will now work\n",
    "\n",
    "# Create DataFrame \n",
    "data = pd.DataFrame({ \n",
    "    'Size': size, \n",
    "    'Bedrooms': bedrooms, \n",
    "    'Bathrooms': bathrooms, \n",
    "    'Location': location, \n",
    "    'Price': prices \n",
    "}) \n",
    "\n",
    "# Save the dataset to a CSV file \n",
    "data.to_csv('house_prices_dataset.csv', index=False)"
   ]
  },
  {
   "cell_type": "code",
   "execution_count": null,
   "id": "72cf394b-6c84-4f1c-8ebe-30693fc15048",
   "metadata": {},
   "outputs": [],
   "source": []
  }
 ],
 "metadata": {
  "kernelspec": {
   "display_name": "Python 3 (ipykernel)",
   "language": "python",
   "name": "python3"
  },
  "language_info": {
   "codemirror_mode": {
    "name": "ipython",
    "version": 3
   },
   "file_extension": ".py",
   "mimetype": "text/x-python",
   "name": "python",
   "nbconvert_exporter": "python",
   "pygments_lexer": "ipython3",
   "version": "3.11.7"
  }
 },
 "nbformat": 4,
 "nbformat_minor": 5
}
